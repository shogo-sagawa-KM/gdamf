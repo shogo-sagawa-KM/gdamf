{
 "cells": [
  {
   "cell_type": "code",
   "execution_count": null,
   "id": "d7c0389f-1951-4215-b8e0-acefb5f37e52",
   "metadata": {},
   "outputs": [],
   "source": [
    "import numpy as np\n",
    "import pandas as pd\n",
    "import plotly.express as px\n",
    "from plotly.subplots import make_subplots\n",
    "import scipy.stats as ss\n",
    "import scikit_posthocs as sp\n",
    "import util"
   ]
  },
  {
   "cell_type": "code",
   "execution_count": null,
   "id": "6c6d1d69-20bb-41a2-a375-d3d9629442d5",
   "metadata": {},
   "outputs": [],
   "source": [
    "def add_var_scatter_plot(fig, x, y, color, name=None, showlegend=True, **kwargs):\n",
    "    \"\"\"\n",
    "    @param\n",
    "    fig: go.Figure\n",
    "    color: int, we prepare 10 colors, you can select the number 0 to 9.\n",
    "    name: str, the name of plot\n",
    "    \"\"\"\n",
    "    colors = [list(px.colors.hex_to_rgb(_hex)) for _hex in px.colors.qualitative.Plotly]\n",
    "    rgb = 'rgb' + str(tuple(colors[color]))\n",
    "    rgba = 'rgba' + str(tuple(colors[color] + [0.3]))  # opacity = 0.3\n",
    "    mean, std = np.mean(y, axis=1), np.std(y, ddof=1, axis=1)\n",
    "    fig.add_scatter(x=x, y=mean, name=name, mode='markers+lines', line=dict(color=rgb), showlegend=showlegend, **kwargs)\n",
    "    fig.add_scatter(x=x, y=mean+std, mode='lines', line=dict(width=0), showlegend=False, hoverinfo='none', **kwargs)\n",
    "    fig.add_scatter(x=x, y=mean-std, mode='lines', fill=\"tonexty\", line=dict(width=0),\n",
    "                    showlegend=False, hoverinfo='none', fillcolor=rgba, **kwargs)\n",
    "    return fig"
   ]
  },
  {
   "cell_type": "markdown",
   "id": "df45d45d-0275-41ef-9ead-e29b6150e021",
   "metadata": {
    "tags": []
   },
   "source": [
    "# two-moon"
   ]
  },
  {
   "cell_type": "code",
   "execution_count": null,
   "id": "fd1069e5-df49-462c-b4ab-793d95344aa9",
   "metadata": {},
   "outputs": [],
   "source": [
    "# key: color, title\n",
    "settings = {'gst': (4, 'GradualSelfTrain'),\n",
    "            'gdamf': (3, 'GDAMF')}\n",
    "\n",
    "fig = px.scatter()\n",
    "for key in settings:\n",
    "    color, name = settings[key]\n",
    "    res = pd.read_pickle(f'two-moon_{key}.pkl')\n",
    "    x = np.nanmean(res['wd'], axis=1)\n",
    "    x = (x - x.min(axis=0)) / (x.max(axis=0) - x.min(axis=0))  # scaling\n",
    "    fig = add_var_scatter_plot(fig, x, res['acc'], color, name)\n",
    "\n",
    "fig.update_layout(\n",
    "    xaxis_title='Wasserstein distance between domains', yaxis_title='Accuracy',\n",
    "    font=dict(family=\"PTSerif\", size=14,),\n",
    "    width=550, height=400, margin=dict(t=30, b=30, r=30),\n",
    "    legend=dict(orientation=\"h\", bordercolor=\"Black\", borderwidth=0.3, yanchor=\"bottom\", y=-0.35, xanchor=\"center\", x=0.5),\n",
    ")\n",
    "\n",
    "fig.write_image('r1_two-moon.pdf')\n",
    "fig.show()"
   ]
  },
  {
   "cell_type": "markdown",
   "id": "adaa9aab-a0b9-47c7-a33f-bf9474987077",
   "metadata": {
    "tags": []
   },
   "source": [
    "# WD"
   ]
  },
  {
   "cell_type": "code",
   "execution_count": null,
   "id": "83fda6b5-e0be-4928-9ea3-28c4f059f7f6",
   "metadata": {},
   "outputs": [],
   "source": [
    "# key: color, title\n",
    "settings = {'cover': (2, 'Cover Type'),\n",
    "            'portraits': (1, 'Portraits'),\n",
    "            'mnist': (0, 'Rotating MNIST'),}\n",
    "\n",
    "fig = px.scatter()\n",
    "\n",
    "for key in settings:\n",
    "    color, name = settings[key]\n",
    "    res = pd.read_pickle(f'wd_{key}.pkl')\n",
    "    x = res['num_inter']\n",
    "    y = res['wd']\n",
    "    y_scaled = (y - y.min(axis=0)) / (y.max(axis=0) - y.min(axis=0))\n",
    "    fig = add_var_scatter_plot(fig, x, y_scaled, color, name)\n",
    "\n",
    "fig.add_hline(y=0.5, line_width=1, line_dash=\"dash\", line_color='gray')\n",
    "fig.update_layout(\n",
    "    xaxis_title='number of intermediate domains', yaxis_title='Wasserstein distance',\n",
    "    font=dict(family=\"PTSerif\", size=14,),\n",
    "    width=550, height=400, margin=dict(t=30, b=30, r=30),\n",
    "    legend=dict(orientation=\"h\", bordercolor=\"Black\", borderwidth=0.3, yanchor=\"bottom\", y=-0.35, xanchor=\"center\", x=0.5),\n",
    ")\n",
    "\n",
    "fig.write_image('r1_wd.pdf')\n",
    "fig.show()"
   ]
  },
  {
   "cell_type": "markdown",
   "id": "389a4c52-e860-4ed0-a835-ea7457467d10",
   "metadata": {
    "tags": []
   },
   "source": [
    "# Budgets"
   ]
  },
  {
   "cell_type": "code",
   "execution_count": null,
   "id": "5dc92936-e25f-4618-97b4-d3c6ce1b2678",
   "metadata": {},
   "outputs": [],
   "source": [
    "titles = ['Rotating MNIST', 'Portraits', 'Cover Type', 'Gas Sensor']\n",
    "fig = make_subplots(rows=1, cols=len(titles), y_title='accuracy', shared_xaxes=True, shared_yaxes=True,\n",
    "                    subplot_titles=titles, horizontal_spacing=0.03)\n",
    "\n",
    "# key: position\n",
    "data_dict = {'gas': 4,\n",
    "             'cover': 3,\n",
    "             'portraits': 2,\n",
    "             'mnist': 1}\n",
    "# key: color, legend\n",
    "method_dict = {#'targetonly-al': (6, 'Target only w AL'),\n",
    "               'targetonly': (5, 'Target only'),\n",
    "               #'gdamf-ws': (4, 'GDAMF w/o warm-starting'),\n",
    "               #'gdamf-abl': (3, 'GDAMF w/o AL, intermediate'),\n",
    "               #'gdamf-direct': (2, 'GDAMF w/o intemediate'),\n",
    "               #'gdamf-rnd': (1, 'GDAMF w/o AL'),\n",
    "               'gdamf': (3, 'GDAMF')}\n",
    "\n",
    "for i, d_key in enumerate(data_dict):\n",
    "    showlegend = True if i == 0 else False\n",
    "    pos = data_dict[d_key]\n",
    "    for m_key in method_dict:\n",
    "        color, legend = method_dict[m_key]\n",
    "        res = pd.read_pickle(f'{d_key}_{m_key}.pkl')\n",
    "        x = res['budgets']\n",
    "        y = res['acc']\n",
    "\n",
    "        fig = add_var_scatter_plot(fig, x, y, color, legend, showlegend, row=1, col=pos)\n",
    "\n",
    "fig.update_layout(\n",
    "    xaxis1_title='budgets', xaxis2_title='budgets', xaxis3_title='budgets', xaxis4_title='budgets',\n",
    "    font=dict(family=\"PTSerif\", size=14,),\n",
    "    width=1400, height=400, margin=dict(t=30, b=30, r=30),\n",
    "    legend=dict(orientation=\"h\", bordercolor=\"Black\", borderwidth=0.3, yanchor=\"bottom\", y=-0.35, xanchor=\"center\", x=0.5),\n",
    ")\n",
    "\n",
    "fig.write_image('r1_budget.pdf')\n",
    "fig.show()"
   ]
  },
  {
   "cell_type": "markdown",
   "id": "817f211b-4899-496a-9125-8c1213f15495",
   "metadata": {
    "tags": []
   },
   "source": [
    "# Query"
   ]
  },
  {
   "cell_type": "code",
   "execution_count": null,
   "id": "e11bb996-7497-4ccc-a389-344ff1dbf4ea",
   "metadata": {},
   "outputs": [],
   "source": [
    "titles = ['Rotating MNIST', 'Portraits', 'Cover Type', 'Gas Sensor']\n",
    "fig = make_subplots(rows=1, cols=len(titles), y_title='Number of queried samples', shared_xaxes=True, shared_yaxes=False,\n",
    "                    subplot_titles=titles, horizontal_spacing=0.03)\n",
    "\n",
    "# key: position\n",
    "data_dict = {'gas': 4,\n",
    "             'cover': 3,\n",
    "             'portraits': 2,\n",
    "             'mnist': 1}\n",
    "# key: color, legend\n",
    "method_dict = {'query': ('#636EFA', 'GDAMW'),\n",
    "               'query-ws': ('#EF553B', 'GDAMW w/o warm-starting')}\n",
    "\n",
    "for i, d in enumerate(data_dict):\n",
    "    showlegend = True if i == 1 else False\n",
    "    for m in method_dict:\n",
    "        res = pd.read_pickle(f'{m}_{d}.pkl')\n",
    "        mean = res['query'][-1].mean(axis=0)\n",
    "        std = res['query'][-1].std(axis=0)\n",
    "        if d == 'gas':\n",
    "            mean, std = np.append(mean, [np.nan, np.nan]), np.append(std, [np.nan, np.nan])\n",
    "        x = np.arange(mean.size) + 1\n",
    "        fig.add_bar(x=x, y=mean, error_y=dict(type='data', array=std), showlegend=showlegend,\n",
    "                    row=1, col=data_dict[d], marker_color=method_dict[m][0], name=method_dict[m][1])\n",
    "\n",
    "xt = 'Query cost'\n",
    "fig.update_layout(xaxis1_title=xt, xaxis2_title=xt, xaxis3_title=xt, xaxis4_title=xt,\n",
    "                  font=dict(family=\"PTSerif\", size=14,),\n",
    "                  width=1400, height=400, margin=dict(t=30, b=30, r=30),\n",
    "                  legend=dict(orientation=\"h\", bordercolor=\"Black\", borderwidth=0.3, yanchor=\"bottom\", y=-0.35, xanchor=\"center\", x=0.5))\n",
    "\n",
    "fig.write_image('r1_query.pdf')\n",
    "fig.show()"
   ]
  },
  {
   "cell_type": "markdown",
   "id": "88fe9667-48db-4df8-94cf-c71040322392",
   "metadata": {},
   "source": [
    "# table and statistical tests"
   ]
  },
  {
   "cell_type": "code",
   "execution_count": null,
   "id": "4db57650-36b1-46d8-a040-f82b5288cdd5",
   "metadata": {},
   "outputs": [],
   "source": [
    "col_dict = {'mnist': 'Rotating MNIST', 'portraits': 'Portraits', 'cover': 'Cover Type', 'gas': 'Gas Sensor'}\n",
    "row_dict = {'gdamf': 'GDAMF',\n",
    "            'gdamf-rnd': 'GDAMF w/o AL',\n",
    "            'gdamf-direct': 'GDAMF w/o intermediate',\n",
    "            'gdamf-abl': 'GDAMF w/o AL/intermediate',\n",
    "            'gdamf-ws': 'GDAMF w/o warm-starting',\n",
    "            'targetonly': 'Target Only',\n",
    "            'gst': 'GradualSelfTrain',\n",
    "            'dsaoda': 'DS-AODA',\n",
    "            'gift': 'GIFT',\n",
    "            'aux': 'AuxSelfTrain'}\n",
    "\n",
    "\n",
    "data = {}\n",
    "for c in col_dict:\n",
    "    df = []\n",
    "    for r in row_dict:\n",
    "        res = pd.read_pickle(f'{c}_{r}.pkl')['acc']\n",
    "        if 'gst' in r:\n",
    "            val = pd.DataFrame(res[0]).T\n",
    "            val.index = [row_dict[r]]\n",
    "        elif ('gdamf' in r) | ('target' in r):\n",
    "            val = pd.DataFrame(res[-1, :]).T\n",
    "            val.index = [row_dict[r]]\n",
    "        else:\n",
    "            idx = [f'{row_dict[r]}-{i}' for i in ['low', 'mid', 'high']]\n",
    "            val = pd.DataFrame(res, index=idx)\n",
    "        df.append(val)\n",
    "    data[c] = pd.concat(df)"
   ]
  },
  {
   "cell_type": "markdown",
   "id": "61839ede-abc6-4cd9-bacf-12ca764e8814",
   "metadata": {},
   "source": [
    "## table"
   ]
  },
  {
   "cell_type": "code",
   "execution_count": null,
   "id": "c4bae115-5edd-4649-a7e8-a06f69dab451",
   "metadata": {},
   "outputs": [],
   "source": [
    "# make table\n",
    "table = []\n",
    "for c in data:\n",
    "    val = [util.rounded_statistics(r) for i, r in data[c].iterrows()]\n",
    "    s = pd.Series(data=val, name=col_dict[c], index=data[c].index)\n",
    "    table.append(s)\n",
    "table = pd.DataFrame(table).T\n",
    "# add average\n",
    "ave = pd.concat(list(data.values()), axis=1)\n",
    "table['Average'] = [util.rounded_statistics(r) for i, r in ave.iterrows()]\n",
    "# print for latex\n",
    "for key, v in table.iterrows():\n",
    "    txt = ' & '.join(v.tolist())\n",
    "    print(f'{key} & {txt}')\n",
    "\n",
    "#table.loc[idx].applymap(lambda s: s.split('±')[0]).astype(float).idxmax(axis=0)"
   ]
  },
  {
   "cell_type": "markdown",
   "id": "257f0f36-7779-4085-a376-2037f4b2a02f",
   "metadata": {},
   "source": [
    "## statistical tests"
   ]
  },
  {
   "cell_type": "code",
   "execution_count": null,
   "id": "35de0d68-ceae-4e58-a84e-48b8616caa32",
   "metadata": {},
   "outputs": [],
   "source": [
    "idx = ['GDAMF', 'Target Only', 'GradualSelfTrain',\n",
    "       'DS-AODA-low', 'DS-AODA-mid', 'DS-AODA-high',\n",
    "       'GIFT-low', 'GIFT-mid', 'GIFT-high',\n",
    "       'AuxSelfTrain-low', 'AuxSelfTrain-mid', 'AuxSelfTrain-high']\n",
    "\n",
    "st = []\n",
    "for c in data:\n",
    "    df = data[c].loc[idx].dropna().T.copy()\n",
    "    stat, pvalue = ss.friedmanchisquare(*df.values.T)\n",
    "    txt = 'Freedman Result ' + col_dict[c] + f' pvalue = {pvalue}'\n",
    "    print(txt)\n",
    "    st.append(sp.posthoc_nemenyi_friedman(df)['GDAMF'].iloc[1:])\n",
    "st = pd.concat(st, axis=1)\n",
    "st.columns = col_dict.values()\n",
    "print()\n",
    "print('Nemeny Result')\n",
    "for key, v in st.round(3).astype(str).iterrows():\n",
    "    txt = ' & '.join(v.tolist())\n",
    "    print(f'{key} & {txt}')"
   ]
  },
  {
   "cell_type": "code",
   "execution_count": null,
   "id": "2ca69cb1-95df-408d-b0c3-7b2422256a17",
   "metadata": {},
   "outputs": [],
   "source": []
  }
 ],
 "metadata": {
  "kernelspec": {
   "display_name": "Python [conda env:.conda-torch-env]",
   "language": "python",
   "name": "conda-env-.conda-torch-env-py"
  },
  "language_info": {
   "codemirror_mode": {
    "name": "ipython",
    "version": 3
   },
   "file_extension": ".py",
   "mimetype": "text/x-python",
   "name": "python",
   "nbconvert_exporter": "python",
   "pygments_lexer": "ipython3",
   "version": "3.9.7"
  }
 },
 "nbformat": 4,
 "nbformat_minor": 5
}
