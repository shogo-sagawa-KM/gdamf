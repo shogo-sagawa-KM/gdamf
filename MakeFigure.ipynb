{
 "cells": [
  {
   "cell_type": "code",
   "execution_count": null,
   "id": "d7c0389f-1951-4215-b8e0-acefb5f37e52",
   "metadata": {},
   "outputs": [],
   "source": [
    "import numpy as np\n",
    "import pandas as pd\n",
    "import plotly.express as px\n",
    "from plotly.subplots import make_subplots\n",
    "import util"
   ]
  },
  {
   "cell_type": "code",
   "execution_count": null,
   "id": "6c6d1d69-20bb-41a2-a375-d3d9629442d5",
   "metadata": {},
   "outputs": [],
   "source": [
    "def add_var_scatter_plot(fig, x, y, color, name=None, showlegend=True, **kwargs):\n",
    "    \"\"\"\n",
    "    @param\n",
    "    fig: go.Figure\n",
    "    color: int, we prepare 10 colors, you can select the number 0 to 9.\n",
    "    name: str, the name of plot\n",
    "    \"\"\"\n",
    "    colors = [list(px.colors.hex_to_rgb(_hex)) for _hex in px.colors.qualitative.Plotly]\n",
    "    rgb = 'rgb' + str(tuple(colors[color]))\n",
    "    rgba = 'rgba' + str(tuple(colors[color] + [0.3]))  # opacity = 0.3\n",
    "    mean, std = np.mean(y, axis=1), np.std(y, ddof=1, axis=1)\n",
    "    fig.add_scatter(x=x, y=mean, name=name, mode='markers+lines', line=dict(color=rgb), showlegend=showlegend, **kwargs)\n",
    "    fig.add_scatter(x=x, y=mean+std, mode='lines', line=dict(width=0), showlegend=False, hoverinfo='none', **kwargs)\n",
    "    fig.add_scatter(x=x, y=mean-std, mode='lines', fill=\"tonexty\", line=dict(width=0),\n",
    "                    showlegend=False, hoverinfo='none', fillcolor=rgba, **kwargs)\n",
    "    return fig\n",
    "\n",
    "\n",
    "def add_box_plot(fig, y, color, **kwargs):\n",
    "    \"\"\"\n",
    "    @param\n",
    "    fig: go.Figure\n",
    "    color: int, we prepare 10 colors, you can select the number 0 to 9.\n",
    "    name: str, the name of plot\n",
    "    \"\"\"\n",
    "    colors = [list(px.colors.hex_to_rgb(_hex)) for _hex in px.colors.qualitative.Plotly + px.colors.qualitative.D3]\n",
    "    rgb = 'rgb' + str(tuple(colors[color]))\n",
    "    black = 'rgb(0,0,0)'\n",
    "    y = np.array(y).squeeze()\n",
    "    fig.add_box(y=y, fillcolor=rgb, line=dict(color=black),  **kwargs)\n",
    "    return fig"
   ]
  },
  {
   "cell_type": "markdown",
   "id": "df45d45d-0275-41ef-9ead-e29b6150e021",
   "metadata": {
    "tags": []
   },
   "source": [
    "# two-moon"
   ]
  },
  {
   "cell_type": "code",
   "execution_count": null,
   "id": "fd1069e5-df49-462c-b4ab-793d95344aa9",
   "metadata": {},
   "outputs": [],
   "source": [
    "# key: color, title\n",
    "settings = {'gst': (4, 'GradualSelfTrain'),\n",
    "            'gdamf': (3, 'GDAMF')}\n",
    "\n",
    "fig = px.scatter()\n",
    "for key in settings:\n",
    "    color, name = settings[key]\n",
    "    res = pd.read_pickle(f'./result/two-moon_{key}.pkl')\n",
    "    x = np.nanmean(res['wd'], axis=1)\n",
    "    x = (x - x.min(axis=0)) / (x.max(axis=0) - x.min(axis=0))  # scaling\n",
    "    fig = add_var_scatter_plot(fig, x, res['acc'], color, name)\n",
    "\n",
    "fig.update_layout(\n",
    "    xaxis_title='Wasserstein distance between domains', yaxis_title='Accuracy',\n",
    "    font=dict(family=\"PTSerif\", size=14,),\n",
    "    width=550, height=400, margin=dict(t=30, b=30, r=30),\n",
    "    legend=dict(orientation=\"h\", bordercolor=\"Black\", borderwidth=0.3, yanchor=\"bottom\", y=-0.35, xanchor=\"center\", x=0.5),\n",
    ")\n",
    "fig.update_annotations(font=dict(size=22))\n",
    "\n",
    "fig.write_image('r2_two-moon.pdf')\n",
    "fig.show()"
   ]
  },
  {
   "cell_type": "markdown",
   "id": "adaa9aab-a0b9-47c7-a33f-bf9474987077",
   "metadata": {
    "tags": []
   },
   "source": [
    "# WD"
   ]
  },
  {
   "cell_type": "code",
   "execution_count": null,
   "id": "83fda6b5-e0be-4928-9ea3-28c4f059f7f6",
   "metadata": {},
   "outputs": [],
   "source": [
    "# key: color, title\n",
    "settings = {'cover': (2, 'Cover Type'),\n",
    "            'portraits': (1, 'Portraits'),\n",
    "            'mnist': (0, 'Rotating MNIST'),}\n",
    "\n",
    "fig = px.scatter()\n",
    "\n",
    "for key in settings:\n",
    "    color, name = settings[key]\n",
    "    res = pd.read_pickle(f'./result/wd_{key}.pkl')\n",
    "    x = res['num_inter']\n",
    "    y = res['wd']\n",
    "    y_scaled = (y - y.min(axis=0)) / (y.max(axis=0) - y.min(axis=0))\n",
    "    th_idx = np.argmin(np.abs(y_scaled.mean(axis=1) - 0.5))  # threshold = 0.5 \n",
    "    print(f'{name},  num inter domain: {th_idx+1}')\n",
    "    fig = add_var_scatter_plot(fig, x, y_scaled, color, name)\n",
    "\n",
    "fig.add_hline(y=0.5, line_width=1, line_dash=\"dash\", line_color='gray')\n",
    "fig.update_layout(\n",
    "    xaxis_title='number of intermediate domains', yaxis_title='Wasserstein distance',\n",
    "    font=dict(family=\"PTSerif\", size=14,),\n",
    "    width=550, height=400, margin=dict(t=30, b=30, r=30),\n",
    "    legend=dict(orientation=\"h\", bordercolor=\"Black\", borderwidth=0.3, yanchor=\"bottom\", y=-0.35, xanchor=\"center\", x=0.5),\n",
    ")\n",
    "fig.update_annotations(font=dict(size=22))\n",
    "\n",
    "fig.write_image('r2_wd.pdf')\n",
    "fig.show()"
   ]
  },
  {
   "cell_type": "markdown",
   "id": "389a4c52-e860-4ed0-a835-ea7457467d10",
   "metadata": {
    "tags": []
   },
   "source": [
    "# Budgets"
   ]
  },
  {
   "cell_type": "code",
   "execution_count": null,
   "id": "5dc92936-e25f-4618-97b4-d3c6ce1b2678",
   "metadata": {},
   "outputs": [],
   "source": [
    "titles = ['Rotating MNIST', 'Portraits', 'Cover Type', 'Gas Sensor']\n",
    "fig = make_subplots(rows=1, cols=len(titles), y_title='accuracy', shared_xaxes=True, shared_yaxes=True,\n",
    "                    subplot_titles=titles, horizontal_spacing=0.03)\n",
    "\n",
    "# key: position\n",
    "data_dict = {'gas': 4,\n",
    "             'cover': 3,\n",
    "             'portraits': 2,\n",
    "             'mnist': 1}\n",
    "# key: color, legend\n",
    "method_dict = {#'targetonly-al': (6, 'Target only w AL'),\n",
    "               'targetonly': (5, 'Target only'),\n",
    "               #'gdamf-ws': (4, 'GDAMF w/o warm-starting'),\n",
    "               #'gdamf-abl': (3, 'GDAMF w/o AL, intermediate'),\n",
    "               #'gdamf-direct': (2, 'GDAMF w/o intemediate'),\n",
    "               #'gdamf-rnd': (1, 'GDAMF w/o AL'),\n",
    "               'gdamf': (3, 'GDAMF')}\n",
    "\n",
    "for i, d_key in enumerate(data_dict):\n",
    "    showlegend = True if i == 0 else False\n",
    "    pos = data_dict[d_key]\n",
    "    for m_key in method_dict:\n",
    "        color, legend = method_dict[m_key]\n",
    "        res = pd.read_pickle(f'./result/{d_key}_{m_key}.pkl')\n",
    "        x = res['budgets']\n",
    "        y = res['acc']\n",
    "\n",
    "        fig = add_var_scatter_plot(fig, x, y, color, legend, showlegend, row=1, col=pos)\n",
    "\n",
    "fig.update_layout(\n",
    "    xaxis1_title='budgets', xaxis2_title='budgets', xaxis3_title='budgets', xaxis4_title='budgets',\n",
    "    font=dict(family=\"PTSerif\", size=14,),\n",
    "    width=1400, height=400, margin=dict(t=30, b=30, r=30),\n",
    "    legend=dict(orientation=\"h\", bordercolor=\"Black\", borderwidth=0.3, yanchor=\"bottom\", y=-0.35, xanchor=\"center\", x=0.5),\n",
    ")\n",
    "fig.update_annotations(font=dict(size=22))\n",
    "fig.write_image('r2_budget.pdf')\n",
    "fig.show()"
   ]
  },
  {
   "cell_type": "markdown",
   "id": "817f211b-4899-496a-9125-8c1213f15495",
   "metadata": {
    "tags": []
   },
   "source": [
    "# Query"
   ]
  },
  {
   "cell_type": "code",
   "execution_count": null,
   "id": "e11bb996-7497-4ccc-a389-344ff1dbf4ea",
   "metadata": {},
   "outputs": [],
   "source": [
    "titles = ['Rotating MNIST', 'Portraits', 'Cover Type', 'Gas Sensor']\n",
    "fig = make_subplots(rows=1, cols=len(titles), y_title='Number of queried samples', shared_xaxes=True, shared_yaxes=False,\n",
    "                    subplot_titles=titles, horizontal_spacing=0.03)\n",
    "\n",
    "# key: position\n",
    "data_dict = {'gas': 4,\n",
    "             'cover': 3,\n",
    "             'portraits': 2,\n",
    "             'mnist': 1}\n",
    "# key: color, legend\n",
    "method_dict = {'query': ('#636EFA', 'GDAMW'),\n",
    "               'query-ws': ('#EF553B', 'GDAMW w/o warm-starting')}\n",
    "\n",
    "for i, d in enumerate(data_dict):\n",
    "    showlegend = True if i == 1 else False\n",
    "    for m in method_dict:\n",
    "        res = pd.read_pickle(f'./result/{m}_{d}.pkl')\n",
    "        mean = res['query'][-1].mean(axis=0)\n",
    "        std = res['query'][-1].std(axis=0)\n",
    "        if d == 'gas':\n",
    "            mean, std = np.append(mean, [np.nan, np.nan]), np.append(std, [np.nan, np.nan])\n",
    "        x = np.arange(mean.size) + 1\n",
    "        fig.add_bar(x=x, y=mean, error_y=dict(type='data', array=std), showlegend=showlegend,\n",
    "                    row=1, col=data_dict[d], marker_color=method_dict[m][0], name=method_dict[m][1])\n",
    "\n",
    "xt = 'Query cost'\n",
    "fig.update_layout(xaxis1_title=xt, xaxis2_title=xt, xaxis3_title=xt, xaxis4_title=xt,\n",
    "                  font=dict(family=\"PTSerif\", size=14,),\n",
    "                  width=1400, height=400, margin=dict(t=30, b=30, r=30),\n",
    "                  legend=dict(orientation=\"h\", bordercolor=\"Black\", borderwidth=0.3, yanchor=\"bottom\", y=-0.35, xanchor=\"center\", x=0.5))\n",
    "fig.update_annotations(font=dict(size=22))\n",
    "fig.write_image('r2_query.pdf')\n",
    "fig.show()"
   ]
  },
  {
   "cell_type": "markdown",
   "id": "88fe9667-48db-4df8-94cf-c71040322392",
   "metadata": {
    "tags": []
   },
   "source": [
    "# Box plot"
   ]
  },
  {
   "cell_type": "markdown",
   "id": "6c377fc6-2f57-4be7-8322-5f9baa0963ee",
   "metadata": {
    "heading_collapsed": "true",
    "tags": []
   },
   "source": [
    "## ablation study"
   ]
  },
  {
   "cell_type": "code",
   "execution_count": null,
   "id": "cd2aa5c8-cf1c-490c-96bf-7306396b382a",
   "metadata": {},
   "outputs": [],
   "source": [
    "data_dict = {'mnist': 'Rotating MNIST', 'portraits': 'Portraits', 'cover': 'Cover Type', 'gas': 'Gas Sensor'}\n",
    "method_dict = {'gdamf': 'GDAMF',\n",
    "               'gdamf-rnd': 'GDAMF w/o AL',\n",
    "               'gdamf-direct': 'GDAMF w/o intermediate',\n",
    "               'gdamf-abl': 'GDAMF w/o AL/intermediate',\n",
    "               'gdamf-ws': 'GDAMF w/o warm-starting'}\n",
    "\n",
    "fig = make_subplots(rows=1, cols=len(data_dict), y_title='accuracy',\n",
    "                    shared_xaxes=True, subplot_titles=list(data_dict.values()), horizontal_spacing=0.04)\n",
    "\n",
    "\n",
    "for col, data in enumerate(data_dict):\n",
    "    showlegend = True if col == 0 else False\n",
    "    for color, method in enumerate(method_dict):\n",
    "        name = method_dict[method]\n",
    "        acc = pd.read_pickle(f'./result/{data}_{method}.pkl')['acc'][-1]\n",
    "        fig = add_box_plot(fig, acc, color=color, row=1, col=col+1, name=name, showlegend=showlegend)\n",
    "\n",
    "xaxis_visible = {f'xaxis{i+1}_visible': False for i in range(len(data_dict))}\n",
    "fig.update_layout(**xaxis_visible, width=1400, height=400, margin=dict(t=30, b=30, r=30), font=dict(family=\"PTSerif\", size=18),\n",
    "                  legend=dict(orientation=\"h\", bordercolor=\"Black\", borderwidth=0.3, yanchor=\"bottom\", y=-0.2, xanchor=\"center\", x=0.5))\n",
    "fig.update_annotations(font=dict(size=22))\n",
    "fig.write_image('r2_ablation_study.pdf')\n",
    "fig.show()"
   ]
  },
  {
   "cell_type": "markdown",
   "id": "3b209545-4668-4bfb-bc40-e90266a35e71",
   "metadata": {
    "tags": []
   },
   "source": [
    "## compare with baseline methods"
   ]
  },
  {
   "cell_type": "code",
   "execution_count": null,
   "id": "9a8c17e6-4fe7-4291-a421-26b8109598d0",
   "metadata": {},
   "outputs": [],
   "source": [
    "data_dict = {'mnist': 'Rotating MNIST', 'portraits': 'Portraits', 'cover': 'Cover Type', 'gas': 'Gas Sensor'}\n",
    "method_dict = {'gdamf': 'GDAMF',\n",
    "               'targetonly': 'Target Only',\n",
    "               'gst': 'GradualSelfTrain',\n",
    "               'dsaoda': 'DS-AODA',\n",
    "               'gift': 'GIFT',\n",
    "               'aux': 'AuxSelfTrain'}\n",
    "\n",
    "fig = make_subplots(rows=1, cols=len(data_dict), y_title='accuracy',\n",
    "                    shared_xaxes=True, subplot_titles=list(data_dict.values()), horizontal_spacing=0.04)\n",
    "\n",
    "\n",
    "for col, data in enumerate(data_dict):\n",
    "    showlegend = True if col == 0 else False\n",
    "    color = 0\n",
    "    for method in method_dict:\n",
    "        name = method_dict[method]\n",
    "        res = pd.read_pickle(f'./result/{data}_{method}.pkl')['acc']\n",
    "        if ('gst' in method) | ('gdamf' in method) | ('target' in method):\n",
    "            acc = res[-1]\n",
    "            fig = add_box_plot(fig, acc, color=color, row=1, col=col+1, name=name, showlegend=showlegend)\n",
    "            color += 1\n",
    "        else:\n",
    "            for acc, level in zip(res, ['-low', '-mid', '-high']):\n",
    "                name_with_level = name + level\n",
    "                fig = add_box_plot(fig, acc, color=color, row=1, col=col+1, name=name_with_level, showlegend=showlegend)\n",
    "                color += 1\n",
    "\n",
    "xaxis_visible = {f'xaxis{i+1}_visible': False for i in range(len(data_dict))}\n",
    "fig.update_layout(**xaxis_visible, width=1400, height=400, margin=dict(t=30, b=30, r=30), font=dict(family=\"PTSerif\", size=18),\n",
    "                  legend=dict(orientation=\"h\", bordercolor=\"Black\", borderwidth=0.3, yanchor=\"bottom\", y=-0.4, xanchor=\"center\", x=0.5))\n",
    "fig.update_annotations(font=dict(size=22))\n",
    "fig.write_image('r2_baseline.pdf')\n",
    "fig.show()"
   ]
  },
  {
   "cell_type": "code",
   "execution_count": null,
   "id": "155dfe85-bc40-4ab9-b110-13949293ba32",
   "metadata": {},
   "outputs": [],
   "source": []
  }
 ],
 "metadata": {
  "kernelspec": {
   "display_name": "Python [conda env:.conda-torch-env]",
   "language": "python",
   "name": "conda-env-.conda-torch-env-py"
  },
  "language_info": {
   "codemirror_mode": {
    "name": "ipython",
    "version": 3
   },
   "file_extension": ".py",
   "mimetype": "text/x-python",
   "name": "python",
   "nbconvert_exporter": "python",
   "pygments_lexer": "ipython3",
   "version": "3.9.7"
  }
 },
 "nbformat": 4,
 "nbformat_minor": 5
}
