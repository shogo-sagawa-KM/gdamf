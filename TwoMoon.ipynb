{
 "cells": [
  {
   "cell_type": "code",
   "execution_count": null,
   "id": "5abc4034-7c29-47ca-916b-2a3b0b952d22",
   "metadata": {},
   "outputs": [],
   "source": [
    "import numpy as np\n",
    "import pandas as pd\n",
    "import util\n",
    "import datasets2\n",
    "import GradualDomainAdaptation as G"
   ]
  },
  {
   "cell_type": "code",
   "execution_count": null,
   "id": "9bb09672-6495-4b0e-b7bc-593a67ed2f74",
   "metadata": {},
   "outputs": [],
   "source": [
    "# settings\n",
    "steps = np.arange(3, 24, 3)\n",
    "rep = 10"
   ]
  },
  {
   "cell_type": "code",
   "execution_count": null,
   "id": "a78a917b-ecda-4939-93a9-454e9cdc7426",
   "metadata": {},
   "outputs": [],
   "source": [
    "gdamf_acc = np.full(shape=(len(steps), rep), fill_value=np.nan)\n",
    "gst_acc = np.full_like(gdamf_acc, fill_value=np.nan)\n",
    "wd = np.full(shape=(len(steps), steps[-1]-1), fill_value=np.nan)\n",
    "\n",
    "for i, s in enumerate(steps):\n",
    "    x_all, y_all = datasets2.make_gradual_data(steps=s)\n",
    "    x_eval, y_eval = x_all.pop(), y_all.pop()\n",
    "    num_init_labels, cost, budgets = util.query_settings(x_all, s-2)\n",
    "    wd[i, :len(cost)] = util.mpcWD(x_all, y_all)\n",
    "    for j in range(rep):\n",
    "        # GDAMF without budget(=1)\n",
    "        models, num_query = G.GDAMF(x_all, y_all, num_init_labels, 1, cost)\n",
    "        gdamf_acc[i, j] = G.calc_accuracy(models[-1], x_eval, y_eval)\n",
    "        pd.to_pickle({'wd': wd, 'acc': gdamf_acc}, 'two-moon_gdamf.pkl')\n",
    "        # GST\n",
    "        models, _ = G.GradualSelfTrain(x_all, y_all)\n",
    "        gst_acc[i, j] = G.calc_accuracy(models[-1], x_eval, y_eval)\n",
    "        pd.to_pickle({'wd': wd, 'acc': gst_acc}, 'two-moon_gst.pkl')"
   ]
  },
  {
   "cell_type": "code",
   "execution_count": null,
   "id": "d1478631-1b0f-44c7-9d1e-d5c73584c9da",
   "metadata": {},
   "outputs": [],
   "source": []
  }
 ],
 "metadata": {
  "kernelspec": {
   "display_name": "Python [conda env:.conda-torch-env]",
   "language": "python",
   "name": "conda-env-.conda-torch-env-py"
  },
  "language_info": {
   "codemirror_mode": {
    "name": "ipython",
    "version": 3
   },
   "file_extension": ".py",
   "mimetype": "text/x-python",
   "name": "python",
   "nbconvert_exporter": "python",
   "pygments_lexer": "ipython3",
   "version": "3.9.7"
  }
 },
 "nbformat": 4,
 "nbformat_minor": 5
}
