{
 "cells": [
  {
   "cell_type": "code",
   "execution_count": null,
   "id": "b112430f-64ef-4ee8-82c1-a0c26422def2",
   "metadata": {},
   "outputs": [],
   "source": [
    "import torch\n",
    "import numpy as np\n",
    "import pandas as pd\n",
    "from tqdm import tqdm\n",
    "import util\n",
    "import datasets2"
   ]
  },
  {
   "cell_type": "code",
   "execution_count": null,
   "id": "a2d9287d-ee52-442d-8b3e-d572da2b0a50",
   "metadata": {},
   "outputs": [],
   "source": [
    "# settings\n",
    "rep = 20\n",
    "\n",
    "functions = {\n",
    "             'portraits': datasets2.load_Portraits,\n",
    "             'mnist': datasets2.load_RotatedMNIST2,\n",
    "             'cover': datasets2.load_CoverType,\n",
    "             }\n",
    "             #'gas': datasets2.load_GasSensor,}"
   ]
  },
  {
   "cell_type": "code",
   "execution_count": null,
   "id": "f8c7cd6d-174a-458d-857a-120bf41e5585",
   "metadata": {},
   "outputs": [],
   "source": [
    "for name in functions.keys():\n",
    "    # laod dataset\n",
    "    load_f = functions[name]\n",
    "    x_all, y_all = load_f() if name != 'cover' else load_f(sampling=5000)\n",
    "    x_eval, y_eval = x_all.pop(), y_all.pop()\n",
    "    # initialize\n",
    "    num_inter = np.arange(1, len(x_all)-1)\n",
    "    wd_mean = np.full(shape=(len(num_inter), rep), fill_value=np.nan)\n",
    "    # calc wd\n",
    "    print(name)\n",
    "    for n in tqdm(num_inter):\n",
    "        for r in range(rep):\n",
    "            np.random.seed(r)\n",
    "            torch.manual_seed(r)\n",
    "            x_subset, y_subset = util.subset_domain(x_all, y_all, n, r)\n",
    "            mpc_wd = util.mpcWD(x_subset, y_subset)\n",
    "            wd_mean[n-1, r] = np.mean(mpc_wd)\n",
    "    # save result\n",
    "    obj = {'num_inter': num_inter, 'wd': wd_mean}\n",
    "    pd.to_pickle(obj, f'./result/wd_{name}.pkl')"
   ]
  }
 ],
 "metadata": {
  "kernelspec": {
   "display_name": "Python [conda env:.conda-torch-env]",
   "language": "python",
   "name": "conda-env-.conda-torch-env-py"
  },
  "language_info": {
   "codemirror_mode": {
    "name": "ipython",
    "version": 3
   },
   "file_extension": ".py",
   "mimetype": "text/x-python",
   "name": "python",
   "nbconvert_exporter": "python",
   "pygments_lexer": "ipython3",
   "version": "3.9.7"
  }
 },
 "nbformat": 4,
 "nbformat_minor": 5
}
